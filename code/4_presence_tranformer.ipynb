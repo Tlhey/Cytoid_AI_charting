{
 "cells": [
  {
   "cell_type": "code",
   "execution_count": null,
   "metadata": {},
   "outputs": [
    {
     "name": "stdout",
     "output_type": "stream",
     "text": [
      "Using device: cuda\n",
      "Filtered Data Count (Difficulty>=15): 81\n",
      "Train Size: 64\n",
      "Validation Size: 17\n",
      "Epoch 1/46\n"
     ]
    },
    {
     "name": "stderr",
     "output_type": "stream",
     "text": [
      "                                                                      \r"
     ]
    },
    {
     "name": "stdout",
     "output_type": "stream",
     "text": [
      "Train Loss: 0.4470\n"
     ]
    },
    {
     "name": "stderr",
     "output_type": "stream",
     "text": [
      "                                                                        \r"
     ]
    },
    {
     "name": "stdout",
     "output_type": "stream",
     "text": [
      "Validation Loss: 0.4484\n",
      "Saved Best Model\n",
      "Epoch 2/46\n"
     ]
    },
    {
     "name": "stderr",
     "output_type": "stream",
     "text": [
      "                                                                      \r"
     ]
    },
    {
     "name": "stdout",
     "output_type": "stream",
     "text": [
      "Train Loss: 0.4386\n"
     ]
    },
    {
     "name": "stderr",
     "output_type": "stream",
     "text": [
      "                                                                        \r"
     ]
    },
    {
     "name": "stdout",
     "output_type": "stream",
     "text": [
      "Validation Loss: 0.4445\n",
      "Saved Best Model\n",
      "Epoch 3/46\n"
     ]
    },
    {
     "name": "stderr",
     "output_type": "stream",
     "text": [
      "                                                                      \r"
     ]
    },
    {
     "name": "stdout",
     "output_type": "stream",
     "text": [
      "Train Loss: 0.4395\n"
     ]
    },
    {
     "name": "stderr",
     "output_type": "stream",
     "text": [
      "                                                                        \r"
     ]
    },
    {
     "name": "stdout",
     "output_type": "stream",
     "text": [
      "Validation Loss: 0.4488\n",
      "Epoch 4/46\n"
     ]
    },
    {
     "name": "stderr",
     "output_type": "stream",
     "text": [
      "                                                                      \r"
     ]
    },
    {
     "name": "stdout",
     "output_type": "stream",
     "text": [
      "Train Loss: 0.4411\n"
     ]
    },
    {
     "name": "stderr",
     "output_type": "stream",
     "text": [
      "                                                                        \r"
     ]
    },
    {
     "name": "stdout",
     "output_type": "stream",
     "text": [
      "Validation Loss: 0.4483\n",
      "Epoch 5/46\n"
     ]
    },
    {
     "name": "stderr",
     "output_type": "stream",
     "text": [
      "                                                                      \r"
     ]
    },
    {
     "name": "stdout",
     "output_type": "stream",
     "text": [
      "Train Loss: 0.4363\n"
     ]
    },
    {
     "name": "stderr",
     "output_type": "stream",
     "text": [
      "                                                                        \r"
     ]
    },
    {
     "name": "stdout",
     "output_type": "stream",
     "text": [
      "Validation Loss: 0.4467\n",
      "Epoch 6/46\n"
     ]
    },
    {
     "name": "stderr",
     "output_type": "stream",
     "text": [
      "                                                                      \r"
     ]
    },
    {
     "name": "stdout",
     "output_type": "stream",
     "text": [
      "Train Loss: 0.4359\n"
     ]
    },
    {
     "name": "stderr",
     "output_type": "stream",
     "text": [
      "                                                                        \r"
     ]
    },
    {
     "name": "stdout",
     "output_type": "stream",
     "text": [
      "Validation Loss: 0.4443\n",
      "Saved Best Model\n",
      "Epoch 7/46\n"
     ]
    },
    {
     "name": "stderr",
     "output_type": "stream",
     "text": [
      "                                                                      \r"
     ]
    },
    {
     "name": "stdout",
     "output_type": "stream",
     "text": [
      "Train Loss: 0.4333\n"
     ]
    },
    {
     "name": "stderr",
     "output_type": "stream",
     "text": [
      "                                                                        \r"
     ]
    },
    {
     "name": "stdout",
     "output_type": "stream",
     "text": [
      "Validation Loss: 0.4451\n",
      "Epoch 8/46\n"
     ]
    },
    {
     "name": "stderr",
     "output_type": "stream",
     "text": [
      "                                                                      \r"
     ]
    },
    {
     "name": "stdout",
     "output_type": "stream",
     "text": [
      "Train Loss: 0.4328\n"
     ]
    },
    {
     "name": "stderr",
     "output_type": "stream",
     "text": [
      "                                                                        \r"
     ]
    },
    {
     "name": "stdout",
     "output_type": "stream",
     "text": [
      "Validation Loss: 0.4447\n",
      "Epoch 9/46\n"
     ]
    },
    {
     "name": "stderr",
     "output_type": "stream",
     "text": [
      "                                                                      \r"
     ]
    },
    {
     "name": "stdout",
     "output_type": "stream",
     "text": [
      "Train Loss: 0.4313\n"
     ]
    },
    {
     "name": "stderr",
     "output_type": "stream",
     "text": [
      "                                                                        \r"
     ]
    },
    {
     "name": "stdout",
     "output_type": "stream",
     "text": [
      "Validation Loss: 0.4483\n",
      "Epoch 10/46\n"
     ]
    },
    {
     "name": "stderr",
     "output_type": "stream",
     "text": [
      "                                                                      \r"
     ]
    },
    {
     "name": "stdout",
     "output_type": "stream",
     "text": [
      "Train Loss: 0.4323\n"
     ]
    },
    {
     "name": "stderr",
     "output_type": "stream",
     "text": [
      "                                                                        \r"
     ]
    },
    {
     "name": "stdout",
     "output_type": "stream",
     "text": [
      "Validation Loss: 0.4522\n",
      "Epoch 11/46\n"
     ]
    },
    {
     "name": "stderr",
     "output_type": "stream",
     "text": [
      "                                                                      \r"
     ]
    },
    {
     "name": "stdout",
     "output_type": "stream",
     "text": [
      "Train Loss: 0.4310\n"
     ]
    },
    {
     "name": "stderr",
     "output_type": "stream",
     "text": [
      "                                                                        \r"
     ]
    },
    {
     "name": "stdout",
     "output_type": "stream",
     "text": [
      "Validation Loss: 0.4506\n",
      "Epoch 12/46\n"
     ]
    },
    {
     "name": "stderr",
     "output_type": "stream",
     "text": [
      "                                                                      \r"
     ]
    },
    {
     "name": "stdout",
     "output_type": "stream",
     "text": [
      "Train Loss: 0.4286\n"
     ]
    },
    {
     "name": "stderr",
     "output_type": "stream",
     "text": [
      "                                                                        \r"
     ]
    },
    {
     "name": "stdout",
     "output_type": "stream",
     "text": [
      "Validation Loss: 0.4515\n",
      "Epoch 13/46\n"
     ]
    },
    {
     "name": "stderr",
     "output_type": "stream",
     "text": [
      "                                                                      \r"
     ]
    },
    {
     "name": "stdout",
     "output_type": "stream",
     "text": [
      "Train Loss: 0.4289\n"
     ]
    },
    {
     "name": "stderr",
     "output_type": "stream",
     "text": [
      "                                                                        \r"
     ]
    },
    {
     "name": "stdout",
     "output_type": "stream",
     "text": [
      "Validation Loss: 0.4507\n",
      "Epoch 14/46\n"
     ]
    },
    {
     "name": "stderr",
     "output_type": "stream",
     "text": [
      "                                                                      \r"
     ]
    },
    {
     "name": "stdout",
     "output_type": "stream",
     "text": [
      "Train Loss: 0.4271\n"
     ]
    },
    {
     "name": "stderr",
     "output_type": "stream",
     "text": [
      "                                                                        \r"
     ]
    },
    {
     "name": "stdout",
     "output_type": "stream",
     "text": [
      "Validation Loss: 0.4556\n",
      "Epoch 15/46\n"
     ]
    },
    {
     "name": "stderr",
     "output_type": "stream",
     "text": [
      "                                                                      \r"
     ]
    },
    {
     "name": "stdout",
     "output_type": "stream",
     "text": [
      "Train Loss: 0.4246\n"
     ]
    },
    {
     "name": "stderr",
     "output_type": "stream",
     "text": [
      "                                                                        \r"
     ]
    },
    {
     "name": "stdout",
     "output_type": "stream",
     "text": [
      "Validation Loss: 0.4461\n",
      "Epoch 16/46\n"
     ]
    },
    {
     "name": "stderr",
     "output_type": "stream",
     "text": [
      "                                                                      \r"
     ]
    },
    {
     "name": "stdout",
     "output_type": "stream",
     "text": [
      "Train Loss: 0.4222\n"
     ]
    },
    {
     "name": "stderr",
     "output_type": "stream",
     "text": [
      "                                                                        \r"
     ]
    },
    {
     "name": "stdout",
     "output_type": "stream",
     "text": [
      "Validation Loss: 0.4553\n",
      "Epoch 17/46\n"
     ]
    },
    {
     "name": "stderr",
     "output_type": "stream",
     "text": [
      "                                                                      \r"
     ]
    },
    {
     "name": "stdout",
     "output_type": "stream",
     "text": [
      "Train Loss: 0.4226\n"
     ]
    },
    {
     "name": "stderr",
     "output_type": "stream",
     "text": [
      "                                                                        \r"
     ]
    },
    {
     "name": "stdout",
     "output_type": "stream",
     "text": [
      "Validation Loss: 0.4574\n",
      "Epoch 18/46\n"
     ]
    },
    {
     "name": "stderr",
     "output_type": "stream",
     "text": [
      "                                                                      \r"
     ]
    },
    {
     "name": "stdout",
     "output_type": "stream",
     "text": [
      "Train Loss: 0.4191\n"
     ]
    },
    {
     "name": "stderr",
     "output_type": "stream",
     "text": [
      "                                                                        \r"
     ]
    },
    {
     "name": "stdout",
     "output_type": "stream",
     "text": [
      "Validation Loss: 0.4520\n",
      "Epoch 19/46\n"
     ]
    },
    {
     "name": "stderr",
     "output_type": "stream",
     "text": [
      "                                                                      \r"
     ]
    },
    {
     "name": "stdout",
     "output_type": "stream",
     "text": [
      "Train Loss: 0.4226\n"
     ]
    },
    {
     "name": "stderr",
     "output_type": "stream",
     "text": [
      "                                                                        \r"
     ]
    },
    {
     "name": "stdout",
     "output_type": "stream",
     "text": [
      "Validation Loss: 0.4554\n",
      "Epoch 20/46\n"
     ]
    },
    {
     "name": "stderr",
     "output_type": "stream",
     "text": [
      "                                                                      \r"
     ]
    },
    {
     "name": "stdout",
     "output_type": "stream",
     "text": [
      "Train Loss: 0.4125\n"
     ]
    },
    {
     "name": "stderr",
     "output_type": "stream",
     "text": [
      "                                                                        \r"
     ]
    },
    {
     "name": "stdout",
     "output_type": "stream",
     "text": [
      "Validation Loss: 0.4579\n",
      "Epoch 21/46\n"
     ]
    },
    {
     "name": "stderr",
     "output_type": "stream",
     "text": [
      "                                                                      \r"
     ]
    },
    {
     "name": "stdout",
     "output_type": "stream",
     "text": [
      "Train Loss: 0.4097\n"
     ]
    },
    {
     "name": "stderr",
     "output_type": "stream",
     "text": [
      "                                                                        \r"
     ]
    },
    {
     "name": "stdout",
     "output_type": "stream",
     "text": [
      "Validation Loss: 0.4787\n",
      "Epoch 22/46\n"
     ]
    },
    {
     "name": "stderr",
     "output_type": "stream",
     "text": [
      "                                                                      \r"
     ]
    },
    {
     "name": "stdout",
     "output_type": "stream",
     "text": [
      "Train Loss: 0.4107\n"
     ]
    },
    {
     "name": "stderr",
     "output_type": "stream",
     "text": [
      "                                                                        \r"
     ]
    },
    {
     "name": "stdout",
     "output_type": "stream",
     "text": [
      "Validation Loss: 0.4656\n",
      "Epoch 23/46\n"
     ]
    },
    {
     "name": "stderr",
     "output_type": "stream",
     "text": [
      "                                                                      \r"
     ]
    },
    {
     "name": "stdout",
     "output_type": "stream",
     "text": [
      "Train Loss: 0.4061\n"
     ]
    },
    {
     "name": "stderr",
     "output_type": "stream",
     "text": [
      "                                                                        \r"
     ]
    },
    {
     "name": "stdout",
     "output_type": "stream",
     "text": [
      "Validation Loss: 0.4626\n",
      "Epoch 24/46\n"
     ]
    },
    {
     "name": "stderr",
     "output_type": "stream",
     "text": [
      "                                                                      \r"
     ]
    },
    {
     "name": "stdout",
     "output_type": "stream",
     "text": [
      "Train Loss: 0.4028\n"
     ]
    },
    {
     "name": "stderr",
     "output_type": "stream",
     "text": [
      "                                                                        \r"
     ]
    },
    {
     "name": "stdout",
     "output_type": "stream",
     "text": [
      "Validation Loss: 0.4677\n",
      "Epoch 25/46\n"
     ]
    },
    {
     "name": "stderr",
     "output_type": "stream",
     "text": [
      "                                                                      \r"
     ]
    },
    {
     "name": "stdout",
     "output_type": "stream",
     "text": [
      "Train Loss: 0.3973\n"
     ]
    },
    {
     "name": "stderr",
     "output_type": "stream",
     "text": [
      "                                                                        \r"
     ]
    },
    {
     "name": "stdout",
     "output_type": "stream",
     "text": [
      "Validation Loss: 0.4799\n",
      "Epoch 26/46\n"
     ]
    },
    {
     "name": "stderr",
     "output_type": "stream",
     "text": [
      "                                                                      \r"
     ]
    },
    {
     "name": "stdout",
     "output_type": "stream",
     "text": [
      "Train Loss: 0.3951\n"
     ]
    },
    {
     "name": "stderr",
     "output_type": "stream",
     "text": [
      "                                                                        \r"
     ]
    },
    {
     "name": "stdout",
     "output_type": "stream",
     "text": [
      "Validation Loss: 0.4696\n",
      "Epoch 27/46\n"
     ]
    },
    {
     "name": "stderr",
     "output_type": "stream",
     "text": [
      "                                                                      \r"
     ]
    },
    {
     "name": "stdout",
     "output_type": "stream",
     "text": [
      "Train Loss: 0.3920\n"
     ]
    },
    {
     "name": "stderr",
     "output_type": "stream",
     "text": [
      "                                                                        \r"
     ]
    },
    {
     "name": "stdout",
     "output_type": "stream",
     "text": [
      "Validation Loss: 0.4725\n",
      "Epoch 28/46\n"
     ]
    },
    {
     "name": "stderr",
     "output_type": "stream",
     "text": [
      "                                                                      \r"
     ]
    },
    {
     "name": "stdout",
     "output_type": "stream",
     "text": [
      "Train Loss: 0.3869\n"
     ]
    },
    {
     "name": "stderr",
     "output_type": "stream",
     "text": [
      "                                                                        \r"
     ]
    },
    {
     "name": "stdout",
     "output_type": "stream",
     "text": [
      "Validation Loss: 0.4739\n",
      "Epoch 29/46\n"
     ]
    },
    {
     "name": "stderr",
     "output_type": "stream",
     "text": [
      "                                                                      \r"
     ]
    },
    {
     "name": "stdout",
     "output_type": "stream",
     "text": [
      "Train Loss: 0.3843\n"
     ]
    },
    {
     "name": "stderr",
     "output_type": "stream",
     "text": [
      "                                                                        \r"
     ]
    },
    {
     "name": "stdout",
     "output_type": "stream",
     "text": [
      "Validation Loss: 0.4733\n",
      "Epoch 30/46\n"
     ]
    },
    {
     "name": "stderr",
     "output_type": "stream",
     "text": [
      "                                                                      \r"
     ]
    },
    {
     "name": "stdout",
     "output_type": "stream",
     "text": [
      "Train Loss: 0.3779\n"
     ]
    },
    {
     "name": "stderr",
     "output_type": "stream",
     "text": [
      "                                                                        \r"
     ]
    },
    {
     "name": "stdout",
     "output_type": "stream",
     "text": [
      "Validation Loss: 0.4995\n",
      "Epoch 31/46\n"
     ]
    },
    {
     "name": "stderr",
     "output_type": "stream",
     "text": [
      "                                                                      \r"
     ]
    },
    {
     "name": "stdout",
     "output_type": "stream",
     "text": [
      "Train Loss: 0.3760\n"
     ]
    },
    {
     "name": "stderr",
     "output_type": "stream",
     "text": [
      "                                                                        \r"
     ]
    },
    {
     "name": "stdout",
     "output_type": "stream",
     "text": [
      "Validation Loss: 0.4732\n",
      "Epoch 32/46\n"
     ]
    },
    {
     "name": "stderr",
     "output_type": "stream",
     "text": [
      "                                                                      \r"
     ]
    },
    {
     "name": "stdout",
     "output_type": "stream",
     "text": [
      "Train Loss: 0.3720\n"
     ]
    },
    {
     "name": "stderr",
     "output_type": "stream",
     "text": [
      "                                                                        \r"
     ]
    },
    {
     "name": "stdout",
     "output_type": "stream",
     "text": [
      "Validation Loss: 0.4732\n",
      "Epoch 33/46\n"
     ]
    },
    {
     "name": "stderr",
     "output_type": "stream",
     "text": [
      "                                                                      \r"
     ]
    },
    {
     "name": "stdout",
     "output_type": "stream",
     "text": [
      "Train Loss: 0.3719\n"
     ]
    },
    {
     "name": "stderr",
     "output_type": "stream",
     "text": [
      "                                                                        \r"
     ]
    },
    {
     "name": "stdout",
     "output_type": "stream",
     "text": [
      "Validation Loss: 0.4922\n",
      "Epoch 34/46\n"
     ]
    },
    {
     "name": "stderr",
     "output_type": "stream",
     "text": [
      "                                                                      \r"
     ]
    },
    {
     "name": "stdout",
     "output_type": "stream",
     "text": [
      "Train Loss: 0.3674\n"
     ]
    },
    {
     "name": "stderr",
     "output_type": "stream",
     "text": [
      "                                                                        \r"
     ]
    },
    {
     "name": "stdout",
     "output_type": "stream",
     "text": [
      "Validation Loss: 0.4897\n",
      "Epoch 35/46\n"
     ]
    },
    {
     "name": "stderr",
     "output_type": "stream",
     "text": [
      "                                                                      \r"
     ]
    },
    {
     "name": "stdout",
     "output_type": "stream",
     "text": [
      "Train Loss: 0.3657\n"
     ]
    },
    {
     "name": "stderr",
     "output_type": "stream",
     "text": [
      "                                                                        \r"
     ]
    },
    {
     "name": "stdout",
     "output_type": "stream",
     "text": [
      "Validation Loss: 0.4929\n",
      "Epoch 36/46\n"
     ]
    },
    {
     "name": "stderr",
     "output_type": "stream",
     "text": [
      "                                                                      \r"
     ]
    },
    {
     "name": "stdout",
     "output_type": "stream",
     "text": [
      "Train Loss: 0.3554\n"
     ]
    },
    {
     "name": "stderr",
     "output_type": "stream",
     "text": [
      "                                                                        \r"
     ]
    },
    {
     "name": "stdout",
     "output_type": "stream",
     "text": [
      "Validation Loss: 0.4976\n",
      "Epoch 37/46\n"
     ]
    },
    {
     "name": "stderr",
     "output_type": "stream",
     "text": [
      "                                                                      \r"
     ]
    },
    {
     "name": "stdout",
     "output_type": "stream",
     "text": [
      "Train Loss: 0.3529\n"
     ]
    },
    {
     "name": "stderr",
     "output_type": "stream",
     "text": [
      "                                                                        \r"
     ]
    },
    {
     "name": "stdout",
     "output_type": "stream",
     "text": [
      "Validation Loss: 0.5051\n",
      "Epoch 38/46\n"
     ]
    },
    {
     "name": "stderr",
     "output_type": "stream",
     "text": [
      "                                                                      \r"
     ]
    },
    {
     "name": "stdout",
     "output_type": "stream",
     "text": [
      "Train Loss: 0.3512\n"
     ]
    },
    {
     "name": "stderr",
     "output_type": "stream",
     "text": [
      "                                                                        \r"
     ]
    },
    {
     "name": "stdout",
     "output_type": "stream",
     "text": [
      "Validation Loss: 0.4906\n",
      "Epoch 39/46\n"
     ]
    },
    {
     "name": "stderr",
     "output_type": "stream",
     "text": [
      "                                                                      \r"
     ]
    },
    {
     "name": "stdout",
     "output_type": "stream",
     "text": [
      "Train Loss: 0.3494\n"
     ]
    },
    {
     "name": "stderr",
     "output_type": "stream",
     "text": [
      "                                                                        \r"
     ]
    },
    {
     "name": "stdout",
     "output_type": "stream",
     "text": [
      "Validation Loss: 0.5069\n",
      "Epoch 40/46\n"
     ]
    },
    {
     "name": "stderr",
     "output_type": "stream",
     "text": [
      "                                                                      \r"
     ]
    },
    {
     "name": "stdout",
     "output_type": "stream",
     "text": [
      "Train Loss: 0.3437\n"
     ]
    },
    {
     "name": "stderr",
     "output_type": "stream",
     "text": [
      "                                                                        \r"
     ]
    },
    {
     "name": "stdout",
     "output_type": "stream",
     "text": [
      "Validation Loss: 0.5255\n",
      "Epoch 41/46\n"
     ]
    },
    {
     "name": "stderr",
     "output_type": "stream",
     "text": [
      "                                                                      \r"
     ]
    },
    {
     "name": "stdout",
     "output_type": "stream",
     "text": [
      "Train Loss: 0.3420\n"
     ]
    },
    {
     "name": "stderr",
     "output_type": "stream",
     "text": [
      "                                                                        \r"
     ]
    },
    {
     "name": "stdout",
     "output_type": "stream",
     "text": [
      "Validation Loss: 0.5236\n",
      "Epoch 42/46\n"
     ]
    },
    {
     "name": "stderr",
     "output_type": "stream",
     "text": [
      "                                                                      \r"
     ]
    },
    {
     "name": "stdout",
     "output_type": "stream",
     "text": [
      "Train Loss: 0.3366\n"
     ]
    },
    {
     "name": "stderr",
     "output_type": "stream",
     "text": [
      "                                                                        \r"
     ]
    },
    {
     "name": "stdout",
     "output_type": "stream",
     "text": [
      "Validation Loss: 0.5258\n",
      "Epoch 43/46\n"
     ]
    },
    {
     "name": "stderr",
     "output_type": "stream",
     "text": [
      "                                                                      \r"
     ]
    },
    {
     "name": "stdout",
     "output_type": "stream",
     "text": [
      "Train Loss: 0.3386\n"
     ]
    },
    {
     "name": "stderr",
     "output_type": "stream",
     "text": [
      "                                                                        \r"
     ]
    },
    {
     "name": "stdout",
     "output_type": "stream",
     "text": [
      "Validation Loss: 0.5206\n",
      "Epoch 44/46\n"
     ]
    },
    {
     "name": "stderr",
     "output_type": "stream",
     "text": [
      "                                                                      \r"
     ]
    },
    {
     "name": "stdout",
     "output_type": "stream",
     "text": [
      "Train Loss: 0.3325\n"
     ]
    },
    {
     "name": "stderr",
     "output_type": "stream",
     "text": [
      "                                                                        \r"
     ]
    },
    {
     "name": "stdout",
     "output_type": "stream",
     "text": [
      "Validation Loss: 0.5278\n",
      "Epoch 45/46\n"
     ]
    },
    {
     "name": "stderr",
     "output_type": "stream",
     "text": [
      "                                                                      \r"
     ]
    },
    {
     "name": "stdout",
     "output_type": "stream",
     "text": [
      "Train Loss: 0.3287\n"
     ]
    },
    {
     "name": "stderr",
     "output_type": "stream",
     "text": [
      "                                                                        \r"
     ]
    },
    {
     "name": "stdout",
     "output_type": "stream",
     "text": [
      "Validation Loss: 0.5293\n",
      "Epoch 46/46\n"
     ]
    },
    {
     "name": "stderr",
     "output_type": "stream",
     "text": [
      "                                                                      \r"
     ]
    },
    {
     "name": "stdout",
     "output_type": "stream",
     "text": [
      "Train Loss: 0.3233\n"
     ]
    },
    {
     "name": "stderr",
     "output_type": "stream",
     "text": [
      "/tmp/ipykernel_3223977/1848582650.py:729: FutureWarning: You are using `torch.load` with `weights_only=False` (the current default value), which uses the default pickle module implicitly. It is possible to construct malicious pickle data which will execute arbitrary code during unpickling (See https://github.com/pytorch/pytorch/blob/main/SECURITY.md#untrusted-models for more details). In a future release, the default value for `weights_only` will be flipped to `True`. This limits the functions that could be executed during unpickling. Arbitrary objects will no longer be allowed to be loaded via this mode unless they are explicitly allowlisted by the user via `torch.serialization.add_safe_globals`. We recommend you start setting `weights_only=True` for any use case where you don't have full control of the loaded file. Please open an issue on GitHub for any issues related to this experimental feature.\n",
      "  model.load_state_dict(torch.load(\"best_presence_only_transformer_model.pth\"))\n"
     ]
    },
    {
     "name": "stdout",
     "output_type": "stream",
     "text": [
      "Validation Loss: 0.5329\n"
     ]
    },
    {
     "name": "stderr",
     "output_type": "stream",
     "text": [
      "                                                        \r"
     ]
    },
    {
     "name": "stdout",
     "output_type": "stream",
     "text": [
      "Difficulty 15: Accuracy=0.8476, Precision=1.0000, Recall=0.0011, F1 Score=0.0022\n",
      "Difficulty 16: Accuracy=0.8155, Precision=0.0000, Recall=0.0000, F1 Score=0.0000\n"
     ]
    },
    {
     "data": {
      "image/png": "[encoded data removed]",
      "text/plain": [
       "<Figure size 1500x1000 with 3 Axes>"
      ]
     },
     "metadata": {},
     "output_type": "display_data"
    }
   ],
   "source": [
    "# Cytoid-AI-charting without Threshold Prediction\n",
    "\n",
    "import torch\n",
    "import torch.nn as nn\n",
    "import torch.nn.functional as F\n",
    "from torch.utils.data import Dataset, DataLoader, random_split\n",
    "from torch.nn.utils.rnn import pad_sequence\n",
    "from pathlib import Path\n",
    "import json\n",
    "import librosa\n",
    "import librosa.display\n",
    "import numpy as np\n",
    "import matplotlib.pyplot as plt\n",
    "from collections import defaultdict\n",
    "from typing import List, Tuple, Dict, Any\n",
    "import enum\n",
    "import tqdm\n",
    "import pickle  # If future model saving is needed, can use\n",
    "from sklearn.metrics import f1_score, recall_score, accuracy_score, precision_score\n",
    "\n",
    "# STFT Constants\n",
    "SAMPLE_RATE = 22050  \n",
    "HOP_LENGTH = 512     \n",
    "NMELS = 128        \n",
    "FRAME = 20     \n",
    "\n",
    "# Check GPU\n",
    "device = torch.device(\"cuda\" if torch.cuda.is_available() else \"cpu\")\n",
    "print(f\"Using device: {device}\")\n",
    "\n",
    "def contains_non_ascii(s: str) -> bool:\n",
    "    \"\"\"Check if the string contains non-ASCII characters.\"\"\"\n",
    "    return any(ord(c) > 127 for c in s)\n",
    "\n",
    "def extract_level_json(directory: Path, min_difficulty: int = 15) -> Dict[str, Any]:\n",
    "    \"\"\"\n",
    "    Extract level.json files from the directory, organize relevant information, and filter out songs with specified difficulty.\n",
    "\n",
    "    Args:\n",
    "        directory (Path): The main directory containing subfolders.\n",
    "        min_difficulty (int): The minimum difficulty level.\n",
    "\n",
    "    Returns:\n",
    "        Dict[str, Any]: Contains relevant information for each level, limited to songs with difficulty >= min_difficulty.\n",
    "    \"\"\"\n",
    "    result = {}\n",
    "    \n",
    "    for folder_path in directory.iterdir():\n",
    "        if not folder_path.is_dir():\n",
    "            continue\n",
    "        json_file_path = folder_path / 'level.json'\n",
    "        if json_file_path.is_file():\n",
    "            with json_file_path.open('r', encoding='utf-8') as json_file:\n",
    "                try:\n",
    "                    level_data = json.load(json_file)\n",
    "                except json.JSONDecodeError:\n",
    "                    print(f\"JSON decode error for file: {json_file_path}\")\n",
    "                    continue\n",
    "\n",
    "            chart_difficulty = level_data['charts'][0].get('difficulty', 0)\n",
    "            # Filter songs with difficulty >= min_difficulty\n",
    "            if chart_difficulty < min_difficulty:\n",
    "                continue\n",
    "\n",
    "            # Extract audio file and chart file paths\n",
    "            audio_file_name = level_data['music']['path']\n",
    "            audio_file_extensions = ['.mp3', '.ogg', '.wav']\n",
    "            audio_file_path = None\n",
    "\n",
    "            for ext in audio_file_extensions:\n",
    "                aud_path = folder_path / audio_file_name\n",
    "                if aud_path.suffix.lower() == ext and aud_path.is_file():\n",
    "                    audio_file_path = aud_path\n",
    "                    break\n",
    "            if audio_file_path is None:\n",
    "                continue  \n",
    "\n",
    "            charts_path = folder_path / level_data['charts'][0]['path']\n",
    "            if not charts_path.is_file():\n",
    "                continue\n",
    "\n",
    "            result[level_data['id']] = {\n",
    "                'level': level_data,\n",
    "                'mp3_path': str(audio_file_path),\n",
    "                'charts_path': str(charts_path),\n",
    "                'charter': level_data.get('charter', ''),\n",
    "                'type': level_data['charts'][0].get('type', ''),\n",
    "                'difficulty': chart_difficulty\n",
    "            }\n",
    "    return result\n",
    "\n",
    "def extract_charts(path: str) -> Dict[str, Any]:\n",
    "    \"\"\"\n",
    "    Extract chart data from a JSON file.\n",
    "\n",
    "    Args:\n",
    "        path (str): The path to the chart JSON file.\n",
    "\n",
    "    Returns:\n",
    "        Dict[str, Any]: Chart data.\n",
    "    \"\"\"\n",
    "    file_path = Path(path)\n",
    "    if file_path.exists() and file_path.is_file():\n",
    "        with open(file_path, 'r', encoding='utf-8') as f:\n",
    "            try:\n",
    "                data = json.load(f)\n",
    "                return data\n",
    "            except json.JSONDecodeError:\n",
    "                print(f\"JSON decode error for file: {path}\")\n",
    "    return {}\n",
    "\n",
    "def find_single_tempo_songs(data: Dict[str, Any]) -> List[Dict[str, Any]]:\n",
    "    \"\"\"\n",
    "    Filter songs with a constant BPM.\n",
    "\n",
    "    Args:\n",
    "        data (Dict[str, Any]): A dictionary containing all song information.\n",
    "\n",
    "    Returns:\n",
    "        List[Dict[str, Any]]: A list of songs with constant BPM.\n",
    "    \"\"\"\n",
    "    single_tempo_songs = []\n",
    "    for song_id, song in data.items():\n",
    "        charts_data = extract_charts(song['charts_path'])\n",
    "        if charts_data and 'tempo_list' in charts_data:\n",
    "            if len(charts_data['tempo_list']) == 1:\n",
    "                single_tempo_songs.append(song)\n",
    "    return single_tempo_songs\n",
    "\n",
    "def map_note_to_time(data: Dict[str, Any]) -> List[Dict[str, Any]]:\n",
    "    \"\"\"\n",
    "    Map notes to time.\n",
    "\n",
    "    Args:\n",
    "        data (Dict[str, Any]): Chart data.\n",
    "\n",
    "    Returns:\n",
    "        List[Dict[str, Any]]: Time mapping information for each note.\n",
    "    \"\"\"\n",
    "    time_base = data.get('time_base', 1000) \n",
    "    offset_universal = 0.033 \n",
    "    offset = data.get('music_offset', 0) - offset_universal\n",
    "    tempo_list = sorted(data.get('tempo_list', []), key=lambda x: x['tick'])  \n",
    "    note_list = data.get('note_list', [])\n",
    "    \n",
    "    note_time_map = []\n",
    "    accumulated_time = 0 \n",
    "    last_tick = 0  \n",
    "    if not tempo_list:\n",
    "        return note_time_map\n",
    "    current_tempo = tempo_list[0]['value']  \n",
    "    tempo_index = 0  \n",
    "\n",
    "    for note in note_list:\n",
    "        note_tick = note['tick']\n",
    "        while tempo_index < len(tempo_list) - 1 and tempo_list[tempo_index + 1]['tick'] <= note_tick:\n",
    "            next_tempo_tick = tempo_list[tempo_index + 1]['tick']\n",
    "            ticks_in_interval = next_tempo_tick - last_tick\n",
    "            tick_duration = (current_tempo / time_base) \n",
    "            accumulated_time += ticks_in_interval * tick_duration\n",
    "            last_tick = next_tempo_tick\n",
    "            tempo_index += 1\n",
    "            current_tempo = tempo_list[tempo_index]['value']\n",
    "\n",
    "        ticks_in_interval = note_tick - last_tick\n",
    "        tick_duration = (current_tempo / time_base) \n",
    "        note_time = accumulated_time + ticks_in_interval * tick_duration\n",
    "        note_time_map.append({\n",
    "            'note_id': note.get('id', 0),\n",
    "            'note_tick': note_tick,\n",
    "            'note_time_microseconds': note_time - offset * 1_000_000,\n",
    "            'note_type': note.get('type', 0),\n",
    "            'note_x': note.get('x', 0.0)\n",
    "        })\n",
    "\n",
    "    return note_time_map\n",
    "\n",
    "def generate_mel_spectrogram(\n",
    "    audio_path: Path,\n",
    "    log_enable: bool = True,\n",
    "    bpm_info: List[Dict[str, float]] = None,\n",
    "    note_info: List[Dict[str, Any]] = None,\n",
    "    max_frames: int = 5000  # New parameter to limit maximum frames\n",
    ") -> dict:\n",
    "    \"\"\"\n",
    "    Generate Mel spectrogram and corresponding labels, limiting its length to max_frames.\n",
    "\n",
    "    Args:\n",
    "        audio_path (Path): Path to the audio file.\n",
    "        log_enable (bool): Whether to apply logarithmic transformation.\n",
    "        bpm_info (List[Dict[str, float]]): BPM information.\n",
    "        note_info (List[Dict[str, Any]]): Note information.\n",
    "        max_frames (int): Maximum number of frames.\n",
    "\n",
    "    Returns:\n",
    "        dict: A dictionary containing the Mel spectrogram and labels.\n",
    "    \"\"\"\n",
    "    data, sr = librosa.load(str(audio_path), sr=SAMPLE_RATE)\n",
    "    assert sr == SAMPLE_RATE, f\"Expected sample rate {SAMPLE_RATE}, but got {sr}\"\n",
    "\n",
    "    mel = librosa.feature.melspectrogram(\n",
    "        y=data,\n",
    "        sr=sr, \n",
    "        hop_length=HOP_LENGTH, \n",
    "        fmin=30.0, \n",
    "        n_mels=NMELS, \n",
    "        htk=True\n",
    "    )\n",
    "    if log_enable:\n",
    "        mel = np.log(np.clip(mel, 1e-5, None))\n",
    "    mel = mel.T  # (time steps, features)\n",
    "\n",
    "    # Limit the length of the Mel spectrogram\n",
    "    if mel.shape[0] > max_frames:\n",
    "        mel = mel[:max_frames]\n",
    "    \n",
    "    data_dic = {\"mel\": mel}\n",
    "\n",
    "    if bpm_info and note_info:\n",
    "        mel_length = mel.shape[0]\n",
    "        labels = np.zeros((mel_length, 1))  # Only [presence]\n",
    "        for note in note_info:\n",
    "            time_sec = note['note_time_microseconds'] / 1_000_000\n",
    "            frame_idx = int(time_sec * SAMPLE_RATE / HOP_LENGTH)\n",
    "            if frame_idx < mel_length:\n",
    "                labels[frame_idx, 0] = 1  # Presence\n",
    "        data_dic[\"labels\"] = labels  # shape: (mel_length, 1)\n",
    "\n",
    "    return data_dic\n",
    "\n",
    "class TimeUnit(enum.Enum):\n",
    "    milliseconds = \"milliseconds\"\n",
    "    frames = \"frames\"\n",
    "    seconds = \"seconds\"\n",
    "\n",
    "class OnsetDataset(Dataset):\n",
    "    \"\"\"\n",
    "    PyTorch Dataset class for loading and providing data.\n",
    "    \"\"\"\n",
    "    def __init__(self, data: Dict[str, Any], bpm_info: Dict[str, List[Dict[str, float]]], score_positions: Dict[str, List[Dict[str, Any]]], transform=None):\n",
    "        self.data = data\n",
    "        self.bpm_info = bpm_info\n",
    "        self.score_positions = score_positions\n",
    "        self.transform = transform\n",
    "        self.samples = self.prepare_samples()\n",
    "        \n",
    "    def prepare_samples(self) -> List[Tuple[np.ndarray, np.ndarray, int]]:\n",
    "        \"\"\"\n",
    "        Prepare data samples.\n",
    "\n",
    "        Returns:\n",
    "            List[Tuple[np.ndarray, np.ndarray, int]]: A list of samples containing Mel spectrogram, presence labels, and difficulty levels.\n",
    "        \"\"\"\n",
    "        samples = []\n",
    "        for song_id, song in self.data.items():\n",
    "            mp3_path = song[\"mp3_path\"]\n",
    "            charts_path = song[\"charts_path\"]\n",
    "            difficulty = song['difficulty']  # Extract difficulty level\n",
    "\n",
    "            mel_dict = generate_mel_spectrogram(\n",
    "                audio_path=Path(mp3_path),\n",
    "                log_enable=True,\n",
    "                bpm_info=self.bpm_info.get(song_id, None),\n",
    "                note_info=self.score_positions.get(song_id, None)\n",
    "            )\n",
    "            if \"labels\" in mel_dict:\n",
    "                mel = mel_dict[\"mel\"]  # shape: (num_frames, n_mels)\n",
    "                labels = mel_dict[\"labels\"]  # shape: (num_frames, 1)\n",
    "                samples.append((mel, labels, difficulty))\n",
    "        return samples\n",
    "        \n",
    "    def __len__(self) -> int:\n",
    "        return len(self.samples)\n",
    "        \n",
    "    def __getitem__(self, idx: int) -> Tuple[torch.Tensor, torch.Tensor, int]:\n",
    "        mel, labels, difficulty = self.samples[idx]\n",
    "        mel = torch.from_numpy(mel).float()  # shape: (num_frames, n_mels)\n",
    "        labels = torch.from_numpy(labels).float()  # shape: (num_frames, 1)\n",
    "\n",
    "        if self.transform:\n",
    "            mel, labels = self.transform(mel, labels)\n",
    "\n",
    "        return mel, labels, difficulty\n",
    "\n",
    "def collate_fn_padded(batch: List[Tuple[torch.Tensor, torch.Tensor, int]]) -> Tuple[torch.Tensor, torch.Tensor, List[int], List[int]]:\n",
    "    \"\"\"\n",
    "    Custom collate_fn for handling variable-length sequences in batches.\n",
    "\n",
    "    Args:\n",
    "        batch (List[Tuple[torch.Tensor, torch.Tensor, int]]): A batch of data.\n",
    "\n",
    "    Returns:\n",
    "        Tuple[torch.Tensor, torch.Tensor, List[int], List[int]]: Padded Mel spectrograms, labels, list of difficulty levels, and list of original lengths.\n",
    "    \"\"\"\n",
    "    mel, labels, difficulties = zip(*batch)\n",
    "    lengths = [m.shape[0] for m in mel]\n",
    "    \n",
    "    # Pad Mel spectrograms\n",
    "    mel_padded = pad_sequence(mel, batch_first=True, padding_value=0)  # (batch_size, max_seq_len, n_mels)\n",
    "    \n",
    "    # Pad labels\n",
    "    labels_padded = pad_sequence(labels, batch_first=True, padding_value=0)  # (batch_size, max_seq_len, 1)\n",
    "    \n",
    "    return mel_padded, labels_padded, difficulties, lengths\n",
    "\n",
    "def weighted_bce_loss(presence_pred, presence_target, weights=None):\n",
    "    \"\"\"\n",
    "    Calculate binary cross-entropy loss. If weights are provided, apply weighting.\n",
    "\n",
    "    Args:\n",
    "        presence_pred (Tensor): Predicted presence, shape (batch_size, seq_len, 1)\n",
    "        presence_target (Tensor): True presence, shape (batch_size, seq_len, 1)\n",
    "        weights (Tensor, optional): Weights, shape (batch_size, seq_len, 1). Defaults to None.\n",
    "\n",
    "    Returns:\n",
    "        Tensor: BCE loss\n",
    "    \"\"\"\n",
    "    if weights is not None:\n",
    "        bce_loss = F.binary_cross_entropy(presence_pred, presence_target, reduction='none')\n",
    "        weighted_loss = bce_loss * weights\n",
    "        return weighted_loss.mean()\n",
    "    else:\n",
    "        return F.binary_cross_entropy(presence_pred, presence_target)\n",
    "\n",
    "class PositionalEncoding(nn.Module):\n",
    "    \"\"\"\n",
    "    Adds positional encoding to the Transformer model.\n",
    "    \"\"\"\n",
    "    def __init__(self, d_model: int, max_len: int = 10000):  # Added max_len\n",
    "        super(PositionalEncoding, self).__init__()\n",
    "        pe = torch.zeros(max_len, d_model)  # (max_len, d_model)\n",
    "        position = torch.arange(0, max_len, dtype=torch.float).unsqueeze(1)  # (max_len, 1)\n",
    "        div_term = torch.exp(torch.arange(0, d_model, 2).float() * (-np.log(10000.0) / d_model))  # (d_model/2,)\n",
    "\n",
    "        pe[:, 0::2] = torch.sin(position * div_term)  # Even dimensions\n",
    "        pe[:, 1::2] = torch.cos(position * div_term)  # Odd dimensions\n",
    "        pe = pe.unsqueeze(0)  # (1, max_len, d_model)\n",
    "        self.register_buffer('pe', pe)\n",
    "\n",
    "    def forward(self, x: torch.Tensor) -> torch.Tensor:\n",
    "        \"\"\"\n",
    "        Args:\n",
    "            x: Tensor, shape [batch_size, seq_len, embedding_dim]\n",
    "        \"\"\"\n",
    "        if x.size(1) > self.pe.size(1):\n",
    "            raise ValueError(f\"Sequence length {x.size(1)} exceeds maximum length {self.pe.size(1)}\")\n",
    "        x = x + self.pe[:, :x.size(1), :]\n",
    "        return x\n",
    "\n",
    "class PresenceOnlyTransformer(nn.Module):\n",
    "    \"\"\"\n",
    "    Single-task Transformer model for predicting presence only.\n",
    "    \"\"\"\n",
    "    def __init__(\n",
    "        self, \n",
    "        input_size: int, \n",
    "        hidden_size: int, \n",
    "        num_layers: int, \n",
    "        nhead: int = 8, \n",
    "        dropout: float = 0.1\n",
    "    ):\n",
    "        super(PresenceOnlyTransformer, self).__init__()\n",
    "        self.input_size = input_size\n",
    "        self.hidden_size = hidden_size\n",
    "\n",
    "        # Input linear layer\n",
    "        self.input_linear = nn.Linear(input_size, hidden_size)\n",
    "\n",
    "        # Positional encoding\n",
    "        self.pos_encoder = PositionalEncoding(hidden_size)\n",
    "\n",
    "        # Transformer encoder layers\n",
    "        encoder_layers = nn.TransformerEncoderLayer(d_model=hidden_size, nhead=nhead, dropout=dropout, batch_first=True)\n",
    "        self.transformer_encoder = nn.TransformerEncoder(encoder_layers, num_layers=num_layers)\n",
    "\n",
    "        # Output layer\n",
    "        self.fc_presence = nn.Linear(hidden_size, 1)  # Presence (0/1)\n",
    "\n",
    "        # Activation function\n",
    "        self.sigmoid = nn.Sigmoid()\n",
    "\n",
    "    def forward(self, x: torch.Tensor) -> torch.Tensor:\n",
    "        \"\"\"\n",
    "        Forward pass.\n",
    "\n",
    "        Args:\n",
    "            x (torch.Tensor): Input features, shape (batch_size, seq_len, input_size)\n",
    "\n",
    "        Returns:\n",
    "            torch.Tensor: presence_pred, shape (batch_size, seq_len, 1)\n",
    "        \"\"\"\n",
    "        # Input linear transformation\n",
    "        x = self.input_linear(x)  # (batch_size, seq_len, hidden_size)\n",
    "\n",
    "        # Add positional encoding\n",
    "        x = self.pos_encoder(x)  # (batch_size, seq_len, hidden_size)\n",
    "\n",
    "        # Transformer encoder\n",
    "        transformer_out = self.transformer_encoder(x)  # (batch_size, seq_len, hidden_size)\n",
    "\n",
    "        # Output layer\n",
    "        presence_out = self.sigmoid(self.fc_presence(transformer_out))  # (batch_size, seq_len, 1)\n",
    "\n",
    "        return presence_out\n",
    "\n",
    "def visualize_presence_predictions(mel: np.ndarray, labels: np.ndarray, preds: np.ndarray, start_time: float = 0, end_time: float = 5):\n",
    "    \"\"\"\n",
    "    Visualize the model's presence predictions and true labels.\n",
    "\n",
    "    Args:\n",
    "        mel (np.ndarray): Mel spectrogram, shape (seq_len, feature_dim)\n",
    "        labels (np.ndarray): True labels, shape (seq_len, 1)\n",
    "        preds (np.ndarray): Model-predicted presence scores, shape (seq_len, 1)\n",
    "        start_time (float): Start time for visualization (seconds)\n",
    "        end_time (float): End time for visualization (seconds)\n",
    "    \"\"\"\n",
    "    presence_pred = preds\n",
    "\n",
    "    # Apply threshold of 0.5\n",
    "    presence_final = (presence_pred >= 0.5).astype(int)\n",
    "\n",
    "    # Calculate time axis\n",
    "    total_time = mel.shape[0] * HOP_LENGTH / SAMPLE_RATE\n",
    "    times = np.linspace(0, total_time, num=mel.shape[0])\n",
    "\n",
    "    # Determine frame range for visualization\n",
    "    start_frame = int(start_time * SAMPLE_RATE / HOP_LENGTH)\n",
    "    end_frame = int(end_time * SAMPLE_RATE / HOP_LENGTH)\n",
    "\n",
    "    # Ensure end_frame does not exceed sequence length\n",
    "    end_frame = min(end_frame, mel.shape[0])\n",
    "\n",
    "    # Crop data\n",
    "    mel_cropped = mel[start_frame:end_frame]\n",
    "    labels_cropped = labels[start_frame:end_frame]\n",
    "    presence_pred_cropped = presence_pred[start_frame:end_frame]\n",
    "    presence_final_cropped = presence_final[start_frame:end_frame]\n",
    "\n",
    "    # Create subplots\n",
    "    fig, axs = plt.subplots(2, 1, figsize=(15, 10), sharex=True, gridspec_kw={'height_ratios': [3, 1]})\n",
    "\n",
    "    # Plot Mel spectrogram\n",
    "    img = librosa.display.specshow(\n",
    "        mel_cropped.T,\n",
    "        sr=SAMPLE_RATE,\n",
    "        hop_length=HOP_LENGTH,\n",
    "        x_coords=times[start_frame:end_frame],\n",
    "        ax=axs[0],\n",
    "        x_axis='time',\n",
    "        y_axis='mel',\n",
    "        fmax=8000\n",
    "    )\n",
    "    axs[0].set_title('Mel Spectrogram')\n",
    "    fig.colorbar(img, ax=axs[0], format='%+2.0f dB')\n",
    "\n",
    "    # Plot Presence predictions and true labels\n",
    "    axs[1].plot(\n",
    "        times[start_frame:end_frame],\n",
    "        presence_pred_cropped.flatten(),\n",
    "        label='Presence Prediction (Raw)',\n",
    "        color='red',\n",
    "        alpha=0.6\n",
    "    )\n",
    "    axs[1].plot(\n",
    "        times[start_frame:end_frame],\n",
    "        presence_final_cropped,\n",
    "        label='Presence Prediction (Threshold=0.50)',\n",
    "        color='orange',\n",
    "        alpha=0.6\n",
    "    )\n",
    "    axs[1].plot(\n",
    "        times[start_frame:end_frame],\n",
    "        labels_cropped.flatten(),\n",
    "        label='Presence Ground Truth',\n",
    "        color='blue',\n",
    "        linestyle='dashed'\n",
    "    )\n",
    "\n",
    "    axs[1].set_title('Presence Predictions vs Ground Truth (Threshold: 0.50)')\n",
    "    axs[1].legend(loc='upper right')\n",
    "    axs[1].set_xlabel('Time (s)')\n",
    "    axs[1].set_ylabel('Presence')\n",
    "\n",
    "    plt.tight_layout()\n",
    "    plt.show()\n",
    "\n",
    "def train_epoch(model: nn.Module, dataloader: DataLoader, optimizer: torch.optim.Optimizer, device: torch.device) -> float:\n",
    "    \"\"\"\n",
    "    Train for one epoch.\n",
    "\n",
    "    Args:\n",
    "        model (nn.Module): The model.\n",
    "        dataloader (DataLoader): Training data loader.\n",
    "        optimizer (torch.optim.Optimizer): Optimizer.\n",
    "        device (torch.device): Device.\n",
    "\n",
    "    Returns:\n",
    "        float: Average loss.\n",
    "    \"\"\"\n",
    "    model.train()\n",
    "    running_loss = 0.0\n",
    "    progress_bar = tqdm.tqdm(dataloader, desc=\"Training\", leave=False)\n",
    "\n",
    "    for mel, labels, difficulties, lengths in progress_bar:\n",
    "        mel = mel.to(device)  # (batch_size, seq_len, n_mels)\n",
    "        labels = labels.to(device)  # (batch_size, seq_len, 1)\n",
    "\n",
    "        optimizer.zero_grad()\n",
    "\n",
    "        # Forward pass\n",
    "        presence_pred = model(mel)  # (batch_size, seq_len, 1)\n",
    "\n",
    "        # Compute loss\n",
    "        loss = weighted_bce_loss(presence_pred, labels)\n",
    "\n",
    "        # Backward pass\n",
    "        loss.backward()\n",
    "        optimizer.step()\n",
    "\n",
    "        running_loss += loss.item()\n",
    "        progress_bar.set_postfix({'Loss': f'{loss.item():.4f}'})\n",
    "\n",
    "    epoch_loss = running_loss / len(dataloader)\n",
    "    return epoch_loss\n",
    "\n",
    "def validate_epoch(model: nn.Module, dataloader: DataLoader, device: torch.device) -> Tuple[float, Dict[int, Dict[str, List[Any]]]]:\n",
    "    \"\"\"\n",
    "    Evaluate the model on the validation set and collect predictions and true labels for each difficulty level.\n",
    "\n",
    "    Args:\n",
    "        model (nn.Module): The model.\n",
    "        dataloader (DataLoader): Validation data loader.\n",
    "        device (torch.device): Device.\n",
    "\n",
    "    Returns:\n",
    "        Tuple[float, Dict[int, Dict[str, List[Any]]]]: Average loss and predictions grouped by difficulty level.\n",
    "    \"\"\"\n",
    "    model.eval()\n",
    "    running_loss = 0.0\n",
    "    difficulty_preds = defaultdict(lambda: {'y_true': [], 'y_scores': []})\n",
    "    progress_bar = tqdm.tqdm(dataloader, desc=\"Validation\", leave=False)\n",
    "\n",
    "    with torch.no_grad():\n",
    "        for mel, labels, difficulties, lengths in progress_bar:\n",
    "            mel = mel.to(device)  # (batch_size, seq_len, n_mels)\n",
    "            labels = labels.to(device)  # (batch_size, seq_len, 1)\n",
    "\n",
    "            # Forward pass\n",
    "            presence_pred = model(mel)  # (batch_size, seq_len, 1)\n",
    "\n",
    "            # Compute loss\n",
    "            loss = weighted_bce_loss(presence_pred, labels)\n",
    "\n",
    "            running_loss += loss.item()\n",
    "            progress_bar.set_postfix({'Loss': f'{loss.item():.4f}'})\n",
    "\n",
    "            # Collect predictions and true labels, grouped by difficulty level\n",
    "            for i in range(mel.size(0)):\n",
    "                difficulty = difficulties[i]\n",
    "                y_true = labels[i].cpu().numpy().flatten().tolist()\n",
    "                y_scores = presence_pred[i].cpu().numpy().flatten().tolist()\n",
    "                difficulty_preds[difficulty]['y_true'].extend(y_true)\n",
    "                difficulty_preds[difficulty]['y_scores'].extend(y_scores)\n",
    "\n",
    "    epoch_loss = running_loss / len(dataloader)\n",
    "    return epoch_loss, difficulty_preds\n",
    "\n",
    "def evaluate_test_set(model: nn.Module, dataloader: DataLoader, device: torch.device):\n",
    "    \"\"\"\n",
    "    Evaluate the model on the test set and compute various evaluation metrics.\n",
    "\n",
    "    Args:\n",
    "        model (nn.Module): The model.\n",
    "        dataloader (DataLoader): Test data loader.\n",
    "        device (torch.device): Device.\n",
    "\n",
    "    Returns:\n",
    "        Dict[str, Any]: A dictionary containing various evaluation metrics.\n",
    "    \"\"\"\n",
    "    model.eval()\n",
    "    difficulty_metrics = defaultdict(lambda: {'y_true': [], 'y_pred': []})\n",
    "    progress_bar = tqdm.tqdm(dataloader, desc=\"Testing\", leave=False)\n",
    "\n",
    "    with torch.no_grad():\n",
    "        for mel, labels, difficulties, lengths in progress_bar:\n",
    "            mel = mel.to(device)  # (batch_size, seq_len, n_mels)\n",
    "            labels = labels.to(device)  # (batch_size, seq_len, 1)\n",
    "\n",
    "            # Forward pass\n",
    "            presence_pred = model(mel)  # (batch_size, seq_len, 1)\n",
    "\n",
    "            presence_pred_np = presence_pred.cpu().numpy().flatten()\n",
    "            presence_target_np = labels.cpu().numpy().flatten()\n",
    "\n",
    "            # Use threshold 0.5 for prediction\n",
    "            y_pred = (presence_pred_np >= 0.5).astype(int)\n",
    "            y_true = presence_target_np.astype(int)\n",
    "\n",
    "            # Group by difficulty level\n",
    "            for i in range(mel.size(0)):\n",
    "                difficulty = difficulties[i]\n",
    "                # Assuming batch_size=1\n",
    "                difficulty_metrics[difficulty]['y_true'].extend(y_true.tolist())\n",
    "                difficulty_metrics[difficulty]['y_pred'].extend(y_pred.tolist())\n",
    "\n",
    "    # Compute metrics for each difficulty level\n",
    "    final_metrics = {}\n",
    "    for diff, metrics in difficulty_metrics.items():\n",
    "        y_true = np.array(metrics['y_true'])\n",
    "        y_pred = np.array(metrics['y_pred'])\n",
    "        acc = accuracy_score(y_true, y_pred)\n",
    "        precision = precision_score(y_true, y_pred, zero_division=0)\n",
    "        recall = recall_score(y_true, y_pred, zero_division=0)\n",
    "        f1 = f1_score(y_true, y_pred, zero_division=0)\n",
    "        final_metrics[diff] = {\n",
    "            'accuracy': acc,\n",
    "            'precision': precision,\n",
    "            'recall': recall,\n",
    "            'f1_score': f1\n",
    "        }\n",
    "        print(f\"Difficulty {diff}: Accuracy={acc:.4f}, Precision={precision:.4f}, Recall={recall:.4f}, F1 Score={f1:.4f}\")\n",
    "\n",
    "    return final_metrics\n",
    "\n",
    "# Model Definition\n",
    "\n",
    "class PositionalEncoding(nn.Module):\n",
    "    \"\"\"\n",
    "    Adds positional encoding to the Transformer model.\n",
    "    \"\"\"\n",
    "    def __init__(self, d_model: int, max_len: int = 10000):\n",
    "        super(PositionalEncoding, self).__init__()\n",
    "        pe = torch.zeros(max_len, d_model)  # (max_len, d_model)\n",
    "        position = torch.arange(0, max_len, dtype=torch.float).unsqueeze(1)  # (max_len, 1)\n",
    "        div_term = torch.exp(torch.arange(0, d_model, 2).float() * (-np.log(10000.0) / d_model))  # (d_model/2,)\n",
    "\n",
    "        pe[:, 0::2] = torch.sin(position * div_term)  # Even dimensions\n",
    "        pe[:, 1::2] = torch.cos(position * div_term)  # Odd dimensions\n",
    "        pe = pe.unsqueeze(0)  # (1, max_len, d_model)\n",
    "        self.register_buffer('pe', pe)\n",
    "\n",
    "    def forward(self, x: torch.Tensor) -> torch.Tensor:\n",
    "        \"\"\"\n",
    "        Args:\n",
    "            x: Tensor, shape [batch_size, seq_len, embedding_dim]\n",
    "        \"\"\"\n",
    "        if x.size(1) > self.pe.size(1):\n",
    "            raise ValueError(f\"Sequence length {x.size(1)} exceeds maximum length {self.pe.size(1)}\")\n",
    "        x = x + self.pe[:, :x.size(1), :]\n",
    "        return x\n",
    "\n",
    "class PresenceOnlyTransformer(nn.Module):\n",
    "    \"\"\"\n",
    "    Single-task Transformer model for predicting presence only.\n",
    "    \"\"\"\n",
    "    def __init__(\n",
    "        self, \n",
    "        input_size: int, \n",
    "        hidden_size: int, \n",
    "        num_layers: int, \n",
    "        nhead: int = 8, \n",
    "        dropout: float = 0.1\n",
    "    ):\n",
    "        super(PresenceOnlyTransformer, self).__init__()\n",
    "        self.input_size = input_size\n",
    "        self.hidden_size = hidden_size\n",
    "\n",
    "        # Input linear layer\n",
    "        self.input_linear = nn.Linear(input_size, hidden_size)\n",
    "\n",
    "        # Positional encoding\n",
    "        self.pos_encoder = PositionalEncoding(hidden_size)\n",
    "\n",
    "        # Transformer encoder layers\n",
    "        encoder_layers = nn.TransformerEncoderLayer(d_model=hidden_size, nhead=nhead, dropout=dropout, batch_first=True)\n",
    "        self.transformer_encoder = nn.TransformerEncoder(encoder_layers, num_layers=num_layers)\n",
    "\n",
    "        # Output layer\n",
    "        self.fc_presence = nn.Linear(hidden_size, 1)  # Presence (0/1)\n",
    "\n",
    "        # Activation function\n",
    "        self.sigmoid = nn.Sigmoid()\n",
    "\n",
    "    def forward(self, x: torch.Tensor) -> torch.Tensor:\n",
    "        \"\"\"\n",
    "        Forward pass.\n",
    "\n",
    "        Args:\n",
    "            x (torch.Tensor): Input features, shape (batch_size, seq_len, input_size)\n",
    "\n",
    "        Returns:\n",
    "            torch.Tensor: presence_pred, shape (batch_size, seq_len, 1)\n",
    "        \"\"\"\n",
    "        # Input linear transformation\n",
    "        x = self.input_linear(x)  # (batch_size, seq_len, hidden_size)\n",
    "\n",
    "        # Add positional encoding\n",
    "        x = self.pos_encoder(x)  # (batch_size, seq_len, hidden_size)\n",
    "\n",
    "        # Transformer encoder\n",
    "        transformer_out = self.transformer_encoder(x)  # (batch_size, seq_len, hidden_size)\n",
    "\n",
    "        # Output layer\n",
    "        presence_out = self.sigmoid(self.fc_presence(transformer_out))  # (batch_size, seq_len, 1)\n",
    "\n",
    "        return presence_out\n",
    "\n",
    "def visualize_presence_predictions(mel: np.ndarray, labels: np.ndarray, preds: np.ndarray, start_time: float = 0, end_time: float = 5):\n",
    "    \"\"\"\n",
    "    Visualize the model's presence predictions and true labels.\n",
    "\n",
    "    Args:\n",
    "        mel (np.ndarray): Mel spectrogram, shape (seq_len, feature_dim)\n",
    "        labels (np.ndarray): True labels, shape (seq_len, 1)\n",
    "        preds (np.ndarray): Model-predicted presence scores, shape (seq_len, 1)\n",
    "        start_time (float): Start time for visualization (seconds)\n",
    "        end_time (float): End time for visualization (seconds)\n",
    "    \"\"\"\n",
    "    presence_pred = preds\n",
    "\n",
    "    # Apply threshold of 0.5\n",
    "    presence_final = (presence_pred >= 0.5).astype(int)\n",
    "\n",
    "    # Calculate time axis\n",
    "    total_time = mel.shape[0] * HOP_LENGTH / SAMPLE_RATE\n",
    "    times = np.linspace(0, total_time, num=mel.shape[0])\n",
    "\n",
    "    # Determine frame range for visualization\n",
    "    start_frame = int(start_time * SAMPLE_RATE / HOP_LENGTH)\n",
    "    end_frame = int(end_time * SAMPLE_RATE / HOP_LENGTH)\n",
    "\n",
    "    # Ensure end_frame does not exceed sequence length\n",
    "    end_frame = min(end_frame, mel.shape[0])\n",
    "\n",
    "    # Crop data\n",
    "    mel_cropped = mel[start_frame:end_frame]\n",
    "    labels_cropped = labels[start_frame:end_frame]\n",
    "    presence_pred_cropped = presence_pred[start_frame:end_frame]\n",
    "    presence_final_cropped = presence_final[start_frame:end_frame]\n",
    "\n",
    "    # Create subplots\n",
    "    fig, axs = plt.subplots(2, 1, figsize=(15, 10), sharex=True, gridspec_kw={'height_ratios': [3, 1]})\n",
    "\n",
    "    # Plot Mel spectrogram\n",
    "    img = librosa.display.specshow(\n",
    "        mel_cropped.T,\n",
    "        sr=SAMPLE_RATE,\n",
    "        hop_length=HOP_LENGTH,\n",
    "        x_coords=times[start_frame:end_frame],\n",
    "        ax=axs[0],\n",
    "        x_axis='time',\n",
    "        y_axis='mel',\n",
    "        fmax=8000\n",
    "    )\n",
    "    axs[0].set_title('Mel Spectrogram')\n",
    "    fig.colorbar(img, ax=axs[0], format='%+2.0f dB')\n",
    "\n",
    "    # Plot Presence predictions and true labels\n",
    "    axs[1].plot(\n",
    "        times[start_frame:end_frame],\n",
    "        presence_pred_cropped.flatten(),\n",
    "        label='Presence Prediction (Raw)',\n",
    "        color='red',\n",
    "        alpha=0.6\n",
    "    )\n",
    "    axs[1].plot(\n",
    "        times[start_frame:end_frame],\n",
    "        presence_final_cropped,\n",
    "        label='Presence Prediction (Threshold=0.50)',\n",
    "        color='orange',\n",
    "        alpha=0.6\n",
    "    )\n",
    "    axs[1].plot(\n",
    "        times[start_frame:end_frame],\n",
    "        labels_cropped.flatten(),\n",
    "        label='Presence Ground Truth',\n",
    "        color='blue',\n",
    "        linestyle='dashed'\n",
    "    )\n",
    "\n",
    "    axs[1].set_title('Presence Predictions vs Ground Truth (Threshold: 0.50)')\n",
    "    axs[1].legend(loc='upper right')\n",
    "    axs[1].set_xlabel('Time (s)')\n",
    "    axs[1].set_ylabel('Presence')\n",
    "\n",
    "    plt.tight_layout()\n",
    "    plt.show()\n",
    "\n",
    "def train_epoch(model: nn.Module, dataloader: DataLoader, optimizer: torch.optim.Optimizer, device: torch.device) -> float:\n",
    "    \"\"\"\n",
    "    Train for one epoch.\n",
    "\n",
    "    Args:\n",
    "        model (nn.Module): The model.\n",
    "        dataloader (DataLoader): Training data loader.\n",
    "        optimizer (torch.optim.Optimizer): Optimizer.\n",
    "        device (torch.device): Device.\n",
    "\n",
    "    Returns:\n",
    "        float: Average loss.\n",
    "    \"\"\"\n",
    "    model.train()\n",
    "    running_loss = 0.0\n",
    "    progress_bar = tqdm.tqdm(dataloader, desc=\"Training\", leave=False)\n",
    "\n",
    "    for mel, labels, difficulties, lengths in progress_bar:\n",
    "        mel = mel.to(device)  # (batch_size, seq_len, n_mels)\n",
    "        labels = labels.to(device)  # (batch_size, seq_len, 1)\n",
    "\n",
    "        optimizer.zero_grad()\n",
    "\n",
    "        # Forward pass\n",
    "        presence_pred = model(mel)  # (batch_size, seq_len, 1)\n",
    "\n",
    "        # Compute loss\n",
    "        loss = weighted_bce_loss(presence_pred, labels)\n",
    "\n",
    "        # Backward pass\n",
    "        loss.backward()\n",
    "        optimizer.step()\n",
    "\n",
    "        running_loss += loss.item()\n",
    "        progress_bar.set_postfix({'Loss': f'{loss.item():.4f}'})\n",
    "\n",
    "    epoch_loss = running_loss / len(dataloader)\n",
    "    return epoch_loss\n",
    "\n",
    "def validate_epoch(model: nn.Module, dataloader: DataLoader, device: torch.device) -> Tuple[float, Dict[int, Dict[str, List[Any]]]]:\n",
    "    \"\"\"\n",
    "    Evaluate the model on the validation set and collect predictions and true labels for each difficulty level.\n",
    "\n",
    "    Args:\n",
    "        model (nn.Module): The model.\n",
    "        dataloader (DataLoader): Validation data loader.\n",
    "        device (torch.device): Device.\n",
    "\n",
    "    Returns:\n",
    "        Tuple[float, Dict[int, Dict[str, List[Any]]]]: Average loss and predictions grouped by difficulty level.\n",
    "    \"\"\"\n",
    "    model.eval()\n",
    "    running_loss = 0.0\n",
    "    difficulty_preds = defaultdict(lambda: {'y_true': [], 'y_scores': []})\n",
    "    progress_bar = tqdm.tqdm(dataloader, desc=\"Validation\", leave=False)\n",
    "\n",
    "    with torch.no_grad():\n",
    "        for mel, labels, difficulties, lengths in progress_bar:\n",
    "            mel = mel.to(device)  # (batch_size, seq_len, n_mels)\n",
    "            labels = labels.to(device)  # (batch_size, seq_len, 1)\n",
    "\n",
    "            # Forward pass\n",
    "            presence_pred = model(mel)  # (batch_size, seq_len, 1)\n",
    "\n",
    "            # Compute loss\n",
    "            loss = weighted_bce_loss(presence_pred, labels)\n",
    "\n",
    "            running_loss += loss.item()\n",
    "            progress_bar.set_postfix({'Loss': f'{loss.item():.4f}'})\n",
    "\n",
    "            # Collect predictions and true labels, grouped by difficulty level\n",
    "            for i in range(mel.size(0)):\n",
    "                difficulty = difficulties[i]\n",
    "                y_true = labels[i].cpu().numpy().flatten().tolist()\n",
    "                y_scores = presence_pred[i].cpu().numpy().flatten().tolist()\n",
    "                difficulty_preds[difficulty]['y_true'].extend(y_true)\n",
    "                difficulty_preds[difficulty]['y_scores'].extend(y_scores)\n",
    "\n",
    "    epoch_loss = running_loss / len(dataloader)\n",
    "    return epoch_loss, difficulty_preds\n",
    "\n",
    "def evaluate_test_set(model: nn.Module, dataloader: DataLoader, device: torch.device):\n",
    "    \"\"\"\n",
    "    Evaluate the model on the test set and compute various evaluation metrics.\n",
    "\n",
    "    Args:\n",
    "        model (nn.Module): The model.\n",
    "        dataloader (DataLoader): Test data loader.\n",
    "        device (torch.device): Device.\n",
    "\n",
    "    Returns:\n",
    "        Dict[str, Any]: A dictionary containing various evaluation metrics.\n",
    "    \"\"\"\n",
    "    model.eval()\n",
    "    difficulty_metrics = defaultdict(lambda: {'y_true': [], 'y_pred': []})\n",
    "    progress_bar = tqdm.tqdm(dataloader, desc=\"Testing\", leave=False)\n",
    "\n",
    "    with torch.no_grad():\n",
    "        for mel, labels, difficulties, lengths in progress_bar:\n",
    "            mel = mel.to(device)  # (batch_size, seq_len, n_mels)\n",
    "            labels = labels.to(device)  # (batch_size, seq_len, 1)\n",
    "\n",
    "            # Forward pass\n",
    "            presence_pred = model(mel)  # (batch_size, seq_len, 1)\n",
    "\n",
    "            presence_pred_np = presence_pred.cpu().numpy().flatten()\n",
    "            presence_target_np = labels.cpu().numpy().flatten()\n",
    "\n",
    "            # Use threshold 0.5 for prediction\n",
    "            y_pred = (presence_pred_np >= 0.5).astype(int)\n",
    "            y_true = presence_target_np.astype(int)\n",
    "\n",
    "            # Group by difficulty level\n",
    "            for i in range(mel.size(0)):\n",
    "                difficulty = difficulties[i]\n",
    "                # Assuming batch_size=1\n",
    "                difficulty_metrics[difficulty]['y_true'].extend(y_true.tolist())\n",
    "                difficulty_metrics[difficulty]['y_pred'].extend(y_pred.tolist())\n",
    "\n",
    "    # Compute metrics for each difficulty level\n",
    "    final_metrics = {}\n",
    "    for diff, metrics in difficulty_metrics.items():\n",
    "        y_true = np.array(metrics['y_true'])\n",
    "        y_pred = np.array(metrics['y_pred'])\n",
    "        acc = accuracy_score(y_true, y_pred)\n",
    "        precision = precision_score(y_true, y_pred, zero_division=0)\n",
    "        recall = recall_score(y_true, y_pred, zero_division=0)\n",
    "        f1 = f1_score(y_true, y_pred, zero_division=0)\n",
    "        final_metrics[diff] = {\n",
    "            'accuracy': acc,\n",
    "            'precision': precision,\n",
    "            'recall': recall,\n",
    "            'f1_score': f1\n",
    "        }\n",
    "        print(f\"Difficulty {diff}: Accuracy={acc:.4f}, Precision={precision:.4f}, Recall={recall:.4f}, F1 Score={f1:.4f}\")\n",
    "\n",
    "    return final_metrics\n",
    "\n",
    "# Training and Evaluation\n",
    "\n",
    "# Data Preparation\n",
    "current_directory = Path().cwd()\n",
    "data = extract_level_json(current_directory / \"dataset/Z\", min_difficulty=15)\n",
    "print(f\"Filtered Data Count (Difficulty>=15): {len(data)}\")\n",
    "bpm_info_dict = {}\n",
    "score_positions_dict = {}\n",
    "\n",
    "for song_id, song in data.items():\n",
    "    charts_data = extract_charts(song['charts_path'])\n",
    "    if charts_data:\n",
    "        bpm_info = charts_data.get('tempo_list', [])\n",
    "        bpm_info_dict[song_id] = bpm_info\n",
    "        note_time_map = map_note_to_time(charts_data) \n",
    "        # Detailed information for each note, including time, type, and position\n",
    "        score_positions = [] \n",
    "        for note in note_time_map:\n",
    "            score_positions.append({\n",
    "                'note_time_microseconds': note['note_time_microseconds'],\n",
    "                'note_type': note['note_type'],  # Ensure this field exists\n",
    "                'note_x': note['note_x']         # Ensure this field exists\n",
    "            })\n",
    "        score_positions_dict[song_id] = score_positions\n",
    "\n",
    "# Hyperparameters\n",
    "input_size = NMELS  # Only use the current frame's Mel spectrogram\n",
    "hidden_size = 448    # Updated to 448\n",
    "num_layers = 5       # Updated to 5\n",
    "nhead = 4            # Updated to 4\n",
    "dropout = 0.2        # Updated to 0.2\n",
    "num_epochs = 46      # Updated to 46\n",
    "batch_size = 1       # Remains unchanged\n",
    "learning_rate = 4.96513094680484e-05  # Updated to 4.96513094680484e-05\n",
    "\n",
    "dataset = OnsetDataset(\n",
    "    data=data, \n",
    "    bpm_info=bpm_info_dict, \n",
    "    score_positions=score_positions_dict,\n",
    ")\n",
    "train_size = int(0.8 * len(dataset))\n",
    "val_size = len(dataset) - train_size\n",
    "train_dataset, val_dataset = random_split(dataset, [train_size, val_size])\n",
    "\n",
    "# DataLoader\n",
    "train_loader = DataLoader(train_dataset, batch_size=batch_size, shuffle=True, drop_last=True, collate_fn=collate_fn_padded)\n",
    "val_loader = DataLoader(val_dataset, batch_size=batch_size, shuffle=False, drop_last=False, collate_fn=collate_fn_padded)\n",
    "\n",
    "print(f\"Train Size: {len(train_dataset)}\")\n",
    "print(f\"Validation Size: {len(val_dataset)}\")\n",
    "\n",
    "# Model Definition\n",
    "model = PresenceOnlyTransformer(\n",
    "    input_size=input_size, \n",
    "    hidden_size=hidden_size, \n",
    "    num_layers=num_layers, \n",
    "    nhead=nhead, \n",
    "    dropout=dropout\n",
    ")\n",
    "model.to(device)\n",
    "\n",
    "# Optimizer\n",
    "optimizer = torch.optim.Adam(model.parameters(), lr=learning_rate)  # Corrected to use parameters()\n",
    "\n",
    "# Training Loop\n",
    "best_val_loss = float('inf')\n",
    "\n",
    "for epoch in range(num_epochs):\n",
    "    print(f\"Epoch {epoch + 1}/{num_epochs}\")\n",
    "\n",
    "    # Training\n",
    "    train_loss = train_epoch(model, train_loader, optimizer, device)\n",
    "    print(f\"Train Loss: {train_loss:.4f}\")\n",
    "\n",
    "    # Validation\n",
    "    val_loss, val_difficulty_preds = validate_epoch(model, val_loader, device)\n",
    "    print(f\"Validation Loss: {val_loss:.4f}\")\n",
    "\n",
    "    # Save model if validation loss improves\n",
    "    if val_loss < best_val_loss:\n",
    "        best_val_loss = val_loss\n",
    "        torch.save(model.state_dict(), \"best_presence_only_transformer_model.pth\")\n",
    "        print(\"Saved Best Model\")\n",
    "\n",
    "# Testing Phase\n",
    "\n",
    "# Load the best model\n",
    "model.load_state_dict(torch.load(\"best_presence_only_transformer_model.pth\"))\n",
    "model.to(device)\n",
    "model.eval()\n",
    "\n",
    "# Create Test DataLoader\n",
    "test_loader = DataLoader(val_dataset, batch_size=batch_size, shuffle=False, drop_last=False, collate_fn=collate_fn_padded)\n",
    "# Note: Here, val_dataset is used as the test set. Replace with an independent test set in actual usage.\n",
    "\n",
    "# Evaluate on the test set\n",
    "test_metrics = evaluate_test_set(model, test_loader, device)\n",
    "\n",
    "# Example Visualization (Assuming there is a sample)\n",
    "# Get a sample\n",
    "if len(test_loader.dataset) > 0:\n",
    "    # random_split returns a Subset object; access the original dataset via indices\n",
    "    subset = test_loader.dataset\n",
    "    original_dataset = subset.dataset\n",
    "    # Get the first index\n",
    "    first_idx = subset.indices[0]\n",
    "    sample_mel, sample_labels, sample_difficulty = original_dataset.samples[first_idx]\n",
    "    sample_mel_tensor = torch.from_numpy(sample_mel).float().unsqueeze(0).to(device)  # Add batch dimension\n",
    "    with torch.no_grad():\n",
    "        sample_pred = model(sample_mel_tensor).cpu().numpy().flatten()\n",
    "    sample_labels = sample_labels.flatten()\n",
    "    visualize_presence_predictions(\n",
    "        mel=sample_mel,\n",
    "        labels=sample_labels,\n",
    "        preds=sample_pred,\n",
    "        start_time=0,\n",
    "        end_time=5\n",
    "    )\n"
   ]
  }
 ],
 "metadata": {
  "kernelspec": {
   "display_name": "normal",
   "language": "python",
   "name": "python3"
  },
  "language_info": {
   "codemirror_mode": {
    "name": "ipython",
    "version": 3
   },
   "file_extension": ".py",
   "mimetype": "text/x-python",
   "name": "python",
   "nbconvert_exporter": "python",
   "pygments_lexer": "ipython3",
   "version": "3.10.14"
  }
 },
 "nbformat": 4,
 "nbformat_minor": 2
}
